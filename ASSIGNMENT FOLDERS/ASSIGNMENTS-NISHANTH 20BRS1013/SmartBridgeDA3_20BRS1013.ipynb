{
 "cells": [
  {
   "attachments": {},
   "cell_type": "markdown",
   "metadata": {},
   "source": [
    "### Bird classification locally"
   ]
  },
  {
   "cell_type": "code",
   "execution_count": 2,
   "metadata": {},
   "outputs": [],
   "source": [
    "from keras.preprocessing.image import ImageDataGenerator\n",
    "from keras.models import Sequential, Model\n",
    "from keras.layers import Dense, Dropout, Conv2D, MaxPool2D, Flatten, BatchNormalization\n",
    "from keras.utils import img_to_array, load_img\n",
    "\n",
    "import glob\n",
    "import os"
   ]
  },
  {
   "cell_type": "code",
   "execution_count": 3,
   "metadata": {},
   "outputs": [
    {
     "name": "stdout",
     "output_type": "stream",
     "text": [
      "blasti\n",
      "bonegl\n",
      "brhkyt\n",
      "cbrtsh\n",
      "cmnmyn\n",
      "gretit\n",
      "hilpig\n",
      "himbul\n",
      "himgri\n",
      "hsparo\n",
      "indvul\n",
      "jglowl\n",
      "lbicrw\n",
      "mgprob\n",
      "rebimg\n",
      "wcrsrt\n"
     ]
    }
   ],
   "source": [
    "# Print class names of birds and get num of classes\n",
    "DATA_PATH = \"./../Data/BirdClass/\"\n",
    "\n",
    "n_classes = 0\n",
    "for folder in glob.glob(os.path.join(DATA_PATH, \"train_data/*\")):\n",
    "    print(folder.split(\"\\\\\")[-1])\n",
    "    n_classes += 1"
   ]
  },
  {
   "cell_type": "code",
   "execution_count": 5,
   "metadata": {},
   "outputs": [
    {
     "name": "stdout",
     "output_type": "stream",
     "text": [
      "Found 150 images belonging to 16 classes.\n",
      "Found 157 images belonging to 16 classes.\n"
     ]
    }
   ],
   "source": [
    "# Data generators and augmentations\n",
    "\n",
    "data_augmenter = ImageDataGenerator(\n",
    "    rotation_range=30,\n",
    "    width_shift_range=0.4,\n",
    "    height_shift_range=0.4,\n",
    "    brightness_range=(0.3, 1),\n",
    "    zoom_range=0.5,\n",
    "    horizontal_flip=True,\n",
    "    rescale=1./255\n",
    ")\n",
    "train_gen = data_augmenter.flow_from_directory(\n",
    "    directory=os.path.join(DATA_PATH, \"train_data\"),\n",
    "    target_size=(600, 400),\n",
    "    color_mode='rgb',\n",
    "    batch_size=16,\n",
    "    class_mode='categorical',\n",
    "    shuffle=True\n",
    ")\n",
    "val_gen = data_augmenter.flow_from_directory(\n",
    "    directory=os.path.join(DATA_PATH, \"test_data\"),\n",
    "    target_size=(600, 400),\n",
    "    color_mode='rgb',\n",
    "    batch_size=16,\n",
    "    class_mode='categorical',\n",
    "    shuffle=True\n",
    ")"
   ]
  },
  {
   "attachments": {},
   "cell_type": "markdown",
   "metadata": {},
   "source": [
    "### Plot accuracy of model"
   ]
  },
  {
   "cell_type": "code",
   "execution_count": 7,
   "metadata": {},
   "outputs": [],
   "source": [
    "import matplotlib.pyplot as plt\n",
    "\n",
    "def plot_accuracy(history):\n",
    "    plt.plot(history.history['accuracy'])\n",
    "    plt.plot(history.history['val_accuracy'])\n",
    "    plt.title('model accuracy per epoch')\n",
    "    plt.ylabel('accuracy')\n",
    "    plt.xlabel('epoch')\n",
    "    plt.legend(['train', 'val'], loc='upper left')\n",
    "    plt.savefig(f'learning_curve_TL.png')\n",
    "    plt.show()"
   ]
  },
  {
   "attachments": {},
   "cell_type": "markdown",
   "metadata": {},
   "source": [
    "### CNN Classifier Model\n",
    "- Three 2D convolutional layers\n",
    "- Dropout and BatchNorm for each\n",
    "- Max Pooling layer for each Conv2D feature shrinking\n",
    "- Flattened into 2 Dense fully connected layers\n",
    "- and an output FC layer ccorresponding to the multi class labelling"
   ]
  },
  {
   "cell_type": "code",
   "execution_count": 18,
   "metadata": {},
   "outputs": [],
   "source": [
    "model = Sequential()\n",
    "model.add(Conv2D(\n",
    "    filters=32,\n",
    "    kernel_size=(3,3),\n",
    "    strides=(2,2),\n",
    "    activation='relu',\n",
    "    input_shape=(600, 400, 3)\n",
    "))\n",
    "model.add(MaxPool2D(pool_size=(2, 2)))\n",
    "model.add(BatchNormalization())\n",
    "model.add(Dropout(0.25))\n",
    "\n",
    "model.add(Conv2D(\n",
    "    filters=64, \n",
    "    kernel_size=(3,3),\n",
    "    strides=(2, 2), \n",
    "    activation='relu'\n",
    "))\n",
    "model.add(MaxPool2D(pool_size=(2, 2)))\n",
    "model.add(BatchNormalization())\n",
    "model.add(Dropout(0.25))\n",
    "\n",
    "model.add(Conv2D(\n",
    "    filters=128, \n",
    "    kernel_size=(3,3),\n",
    "    strides=(2, 2), \n",
    "    activation='relu'\n",
    "))\n",
    "model.add(MaxPool2D(pool_size=(2, 2)))\n",
    "model.add(BatchNormalization())\n",
    "model.add(Dropout(0.25))\n",
    "\n",
    "\n",
    "model.add(Flatten())\n",
    "model.add(Dense(1024, activation='sigmoid'))\n",
    "model.add(Dropout(0.25))\n",
    "model.add(Dense(512, activation='sigmoid'))\n",
    "model.add(Dropout(0.25))\n",
    "\n",
    "model.add(Dense(n_classes, activation='softmax'))\n",
    "\n",
    "model.compile(\n",
    "    loss='categorical_crossentropy', \n",
    "    metrics=['accuracy'], \n",
    "    optimizer='adam'\n",
    ")"
   ]
  },
  {
   "cell_type": "code",
   "execution_count": 19,
   "metadata": {},
   "outputs": [
    {
     "name": "stdout",
     "output_type": "stream",
     "text": [
      "Epoch 1/20\n",
      "10/10 [==============================] - 103s 11s/step - loss: 2.8269 - accuracy: 0.1867 - val_loss: 2.8726 - val_accuracy: 0.0955\n",
      "Epoch 2/20\n",
      "10/10 [==============================] - 65s 7s/step - loss: 2.5598 - accuracy: 0.2200 - val_loss: 2.8288 - val_accuracy: 0.0446\n",
      "Epoch 3/20\n",
      "10/10 [==============================] - 66s 7s/step - loss: 2.3813 - accuracy: 0.2333 - val_loss: 2.9241 - val_accuracy: 0.1210\n",
      "Epoch 4/20\n",
      "10/10 [==============================] - 68s 7s/step - loss: 2.2934 - accuracy: 0.2733 - val_loss: 3.0052 - val_accuracy: 0.0382\n",
      "Epoch 5/20\n",
      "10/10 [==============================] - 69s 7s/step - loss: 2.2406 - accuracy: 0.3133 - val_loss: 3.1492 - val_accuracy: 0.0573\n",
      "Epoch 6/20\n",
      "10/10 [==============================] - 71s 7s/step - loss: 2.2179 - accuracy: 0.2467 - val_loss: 3.0905 - val_accuracy: 0.0446\n",
      "Epoch 7/20\n",
      "10/10 [==============================] - 71s 7s/step - loss: 2.2017 - accuracy: 0.2600 - val_loss: 3.0474 - val_accuracy: 0.0573\n",
      "Epoch 8/20\n",
      "10/10 [==============================] - 72s 8s/step - loss: 2.0454 - accuracy: 0.3600 - val_loss: 3.0205 - val_accuracy: 0.0764\n",
      "Epoch 9/20\n",
      "10/10 [==============================] - 74s 8s/step - loss: 2.1986 - accuracy: 0.3000 - val_loss: 3.0486 - val_accuracy: 0.0573\n",
      "Epoch 10/20\n",
      "10/10 [==============================] - 75s 8s/step - loss: 2.1049 - accuracy: 0.2800 - val_loss: 2.9964 - val_accuracy: 0.0955\n",
      "Epoch 11/20\n",
      "10/10 [==============================] - 73s 8s/step - loss: 2.0070 - accuracy: 0.3600 - val_loss: 2.9989 - val_accuracy: 0.0510\n",
      "Epoch 12/20\n",
      "10/10 [==============================] - 73s 8s/step - loss: 1.9005 - accuracy: 0.3267 - val_loss: 3.2241 - val_accuracy: 0.0892\n",
      "Epoch 13/20\n",
      "10/10 [==============================] - 73s 8s/step - loss: 1.8820 - accuracy: 0.3267 - val_loss: 3.2720 - val_accuracy: 0.0510\n",
      "Epoch 14/20\n",
      "10/10 [==============================] - 72s 8s/step - loss: 1.9700 - accuracy: 0.3600 - val_loss: 3.1839 - val_accuracy: 0.0382\n",
      "Epoch 15/20\n",
      "10/10 [==============================] - 72s 8s/step - loss: 1.9242 - accuracy: 0.3267 - val_loss: 3.2363 - val_accuracy: 0.0510\n",
      "Epoch 16/20\n",
      "10/10 [==============================] - 73s 8s/step - loss: 1.9507 - accuracy: 0.3533 - val_loss: 3.3104 - val_accuracy: 0.0510\n",
      "Epoch 17/20\n",
      "10/10 [==============================] - 74s 8s/step - loss: 1.8788 - accuracy: 0.4000 - val_loss: 3.0629 - val_accuracy: 0.0446\n",
      "Epoch 18/20\n",
      "10/10 [==============================] - 73s 8s/step - loss: 2.0936 - accuracy: 0.3067 - val_loss: 3.1481 - val_accuracy: 0.1019\n",
      "Epoch 19/20\n",
      "10/10 [==============================] - 73s 8s/step - loss: 1.8947 - accuracy: 0.3733 - val_loss: 3.1575 - val_accuracy: 0.0573\n",
      "Epoch 20/20\n",
      "10/10 [==============================] - 73s 8s/step - loss: 1.7614 - accuracy: 0.4133 - val_loss: 3.2353 - val_accuracy: 0.0382\n"
     ]
    },
    {
     "data": {
      "image/png": "[encoded data removed]",
      "text/plain": [
       "<Figure size 432x288 with 1 Axes>"
      ]
     },
     "metadata": {
      "needs_background": "light"
     },
     "output_type": "display_data"
    }
   ],
   "source": [
    "N_EPOCHS = 20\n",
    "train_history = model.fit(train_gen,\n",
    "                      batch_size=16,\n",
    "                      epochs=N_EPOCHS,\n",
    "                      validation_data=val_gen)\n",
    "\n",
    "plot_accuracy(train_history)"
   ]
  },
  {
   "attachments": {},
   "cell_type": "markdown",
   "metadata": {},
   "source": [
    "### Transfer learning"
   ]
  },
  {
   "cell_type": "code",
   "execution_count": 6,
   "metadata": {},
   "outputs": [],
   "source": [
    "from keras.applications import InceptionV3\n",
    "\n",
    "feature_extractor = InceptionV3(include_top=False,\n",
    "                                weights=\"imagenet\",\n",
    "                                pooling='max',\n",
    "                                input_shape=(600, 400, 3))\n",
    "x = feature_extractor.output\n",
    "x = Dense(512, activation='relu', name='fc_1')(x)\n",
    "x = Dense(256, activation='relu', name='fc_2')(x)\n",
    "x = Dense(128, activation='relu', name='fc_3')(x)\n",
    "outputs = Dense(n_classes, activation='softmax')(x)\n",
    "Transfer_model = Model(inputs=feature_extractor.inputs, outputs=outputs)\n",
    "\n",
    "for layer in Transfer_model.layers:\n",
    "    if layer.name in ['fc_1', 'fc_2', 'fc_3']:\n",
    "        layer.trainable = True\n",
    "    else:\n",
    "        layer.trainable = False\n",
    "\n",
    "Transfer_model.compile(loss='categorical_crossentropy', metrics=['accuracy'], optimizer='adam')"
   ]
  },
  {
   "attachments": {},
   "cell_type": "markdown",
   "metadata": {},
   "source": [
    "### Testing model with sample images"
   ]
  },
  {
   "cell_type": "code",
   "execution_count": 8,
   "metadata": {},
   "outputs": [
    {
     "name": "stdout",
     "output_type": "stream",
     "text": [
      "Epoch 1/30\n",
      "10/10 [==============================] - 138s 13s/step - loss: 6.8304 - accuracy: 0.0733 - val_loss: 4.1243 - val_accuracy: 0.1274\n",
      "Epoch 2/30\n",
      "10/10 [==============================] - 97s 10s/step - loss: 3.7415 - accuracy: 0.1067 - val_loss: 3.1678 - val_accuracy: 0.2038\n",
      "Epoch 3/30\n",
      "10/10 [==============================] - 82s 9s/step - loss: 2.7919 - accuracy: 0.1733 - val_loss: 2.6326 - val_accuracy: 0.2038\n",
      "Epoch 4/30\n",
      "10/10 [==============================] - 86s 9s/step - loss: 2.4883 - accuracy: 0.3000 - val_loss: 2.5065 - val_accuracy: 0.3248\n",
      "Epoch 5/30\n",
      "10/10 [==============================] - 86s 9s/step - loss: 2.4820 - accuracy: 0.3000 - val_loss: 2.5837 - val_accuracy: 0.2293\n",
      "Epoch 6/30\n",
      "10/10 [==============================] - 89s 9s/step - loss: 2.1780 - accuracy: 0.3333 - val_loss: 2.4661 - val_accuracy: 0.2675\n",
      "Epoch 7/30\n",
      "10/10 [==============================] - 83s 9s/step - loss: 1.9988 - accuracy: 0.4467 - val_loss: 2.8260 - val_accuracy: 0.2484\n",
      "Epoch 8/30\n",
      "10/10 [==============================] - 82s 9s/step - loss: 2.2206 - accuracy: 0.3733 - val_loss: 2.5282 - val_accuracy: 0.3248\n",
      "Epoch 9/30\n",
      "10/10 [==============================] - 98s 10s/step - loss: 2.1435 - accuracy: 0.3667 - val_loss: 2.3141 - val_accuracy: 0.3376\n",
      "Epoch 10/30\n",
      "10/10 [==============================] - 110s 12s/step - loss: 1.8562 - accuracy: 0.4600 - val_loss: 2.3976 - val_accuracy: 0.2994\n",
      "Epoch 11/30\n",
      "10/10 [==============================] - 94s 10s/step - loss: 1.5875 - accuracy: 0.5200 - val_loss: 2.3146 - val_accuracy: 0.2739\n",
      "Epoch 12/30\n",
      "10/10 [==============================] - 82s 9s/step - loss: 1.7431 - accuracy: 0.5000 - val_loss: 2.4907 - val_accuracy: 0.3694\n",
      "Epoch 13/30\n",
      "10/10 [==============================] - 78s 8s/step - loss: 1.8643 - accuracy: 0.4667 - val_loss: 2.2486 - val_accuracy: 0.3567\n",
      "Epoch 14/30\n",
      "10/10 [==============================] - 79s 9s/step - loss: 1.5611 - accuracy: 0.5333 - val_loss: 2.1665 - val_accuracy: 0.3631\n",
      "Epoch 15/30\n",
      "10/10 [==============================] - 82s 9s/step - loss: 1.2712 - accuracy: 0.5867 - val_loss: 2.0682 - val_accuracy: 0.4013\n",
      "Epoch 16/30\n",
      "10/10 [==============================] - 85s 9s/step - loss: 1.3090 - accuracy: 0.5800 - val_loss: 2.3649 - val_accuracy: 0.3694\n",
      "Epoch 17/30\n",
      "10/10 [==============================] - 84s 9s/step - loss: 1.4826 - accuracy: 0.5400 - val_loss: 2.4629 - val_accuracy: 0.3248\n",
      "Epoch 18/30\n",
      "10/10 [==============================] - 84s 9s/step - loss: 1.3303 - accuracy: 0.5733 - val_loss: 2.1430 - val_accuracy: 0.3631\n",
      "Epoch 19/30\n",
      "10/10 [==============================] - 78s 8s/step - loss: 1.2900 - accuracy: 0.6200 - val_loss: 2.2621 - val_accuracy: 0.3694\n",
      "Epoch 20/30\n",
      "10/10 [==============================] - 78s 8s/step - loss: 1.1487 - accuracy: 0.6667 - val_loss: 2.3660 - val_accuracy: 0.4013\n",
      "Epoch 21/30\n",
      "10/10 [==============================] - 79s 8s/step - loss: 1.2070 - accuracy: 0.6067 - val_loss: 1.9977 - val_accuracy: 0.4268\n",
      "Epoch 22/30\n",
      "10/10 [==============================] - 84s 9s/step - loss: 0.9379 - accuracy: 0.7267 - val_loss: 2.2754 - val_accuracy: 0.4076\n",
      "Epoch 23/30\n",
      "10/10 [==============================] - 84s 9s/step - loss: 0.9484 - accuracy: 0.7200 - val_loss: 2.3063 - val_accuracy: 0.4013\n",
      "Epoch 24/30\n",
      "10/10 [==============================] - 84s 9s/step - loss: 0.9134 - accuracy: 0.7467 - val_loss: 2.3572 - val_accuracy: 0.3121\n",
      "Epoch 25/30\n",
      "10/10 [==============================] - 84s 9s/step - loss: 0.9920 - accuracy: 0.6933 - val_loss: 2.0926 - val_accuracy: 0.3949\n",
      "Epoch 26/30\n",
      "10/10 [==============================] - 82s 9s/step - loss: 0.7546 - accuracy: 0.7667 - val_loss: 2.0555 - val_accuracy: 0.4650\n",
      "Epoch 27/30\n",
      "10/10 [==============================] - 80s 8s/step - loss: 0.8494 - accuracy: 0.7333 - val_loss: 2.3377 - val_accuracy: 0.4204\n",
      "Epoch 28/30\n",
      "10/10 [==============================] - 79s 8s/step - loss: 0.9155 - accuracy: 0.7267 - val_loss: 2.3850 - val_accuracy: 0.3567\n",
      "Epoch 29/30\n",
      "10/10 [==============================] - 83s 9s/step - loss: 0.8315 - accuracy: 0.7400 - val_loss: 2.5744 - val_accuracy: 0.4076\n",
      "Epoch 30/30\n",
      "10/10 [==============================] - 84s 9s/step - loss: 0.7792 - accuracy: 0.7533 - val_loss: 2.2089 - val_accuracy: 0.4268\n"
     ]
    },
    {
     "data": {
      "image/png": "[encoded data removed]",
      "text/plain": [
       "<Figure size 432x288 with 1 Axes>"
      ]
     },
     "metadata": {
      "needs_background": "light"
     },
     "output_type": "display_data"
    }
   ],
   "source": [
    "history2 = Transfer_model.fit(train_gen,\n",
    "                              batch_size=16,\n",
    "                              epochs=30,\n",
    "                              validation_data=val_gen)\n",
    "plot_accuracy(history2)"
   ]
  }
 ],
 "metadata": {
  "kernelspec": {
   "display_name": "base",
   "language": "python",
   "name": "python3"
  },
  "language_info": {
   "codemirror_mode": {
    "name": "ipython",
    "version": 3
   },
   "file_extension": ".py",
   "mimetype": "text/x-python",
   "name": "python",
   "nbconvert_exporter": "python",
   "pygments_lexer": "ipython3",
   "version": "3.9.7"
  },
  "orig_nbformat": 4
 },
 "nbformat": 4,
 "nbformat_minor": 2
}
