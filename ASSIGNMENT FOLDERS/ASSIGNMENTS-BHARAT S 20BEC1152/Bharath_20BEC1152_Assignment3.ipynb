{
  "nbformat": 4,
  "nbformat_minor": 0,
  "metadata": {
    "colab": {
      "provenance": [],
      "gpuType": "T4"
    },
    "kernelspec": {
      "name": "python3",
      "display_name": "Python 3"
    },
    "language_info": {
      "name": "python"
    },
    "accelerator": "GPU"
  },
  "cells": [
    {
      "cell_type": "code",
      "execution_count": null,
      "metadata": {
        "colab": {
          "base_uri": "https://localhost:8080/"
        },
        "id": "gxVjGVl1tD5n",
        "outputId": "7a4b3772-1c01-4544-f54f-43ebe43b7fef"
      },
      "outputs": [
        {
          "output_type": "stream",
          "name": "stdout",
          "text": [
            "Archive:  /content/drive/MyDrive/dataset/test_data.zip\n",
            "replace test_data/blasti/DSC_6396.jpg? [y]es, [n]o, [A]ll, [N]one, [r]ename: A\n",
            "  inflating: test_data/blasti/DSC_6396.jpg  \n",
            "  inflating: test_data/blasti/DSC_6397.jpg  \n",
            "  inflating: test_data/blasti/DSC_6398.jpg  \n",
            "  inflating: test_data/blasti/DSC_6399.jpg  \n",
            "  inflating: test_data/blasti/DSC_6400.jpg  \n",
            "  inflating: test_data/blasti/DSC_6401.jpg  \n",
            "  inflating: test_data/blasti/DSC_6402.jpg  \n",
            "  inflating: test_data/blasti/DSC_6403.jpg  \n",
            "  inflating: test_data/blasti/DSC_6405.jpg  \n",
            "  inflating: test_data/blasti/DSC_6406.jpg  \n",
            "  inflating: test_data/blasti/DSC_6407.jpg  \n",
            "  inflating: test_data/blasti/DSC_6408.jpg  \n",
            "  inflating: test_data/blasti/DSC_6409.jpg  \n",
            "  inflating: test_data/blasti/DSC_6410.jpg  \n",
            "  inflating: test_data/blasti/DSC_6411.jpg  \n",
            "  inflating: test_data/bonegl/DSC_4587.jpg  \n",
            "  inflating: test_data/bonegl/DSC_4588.jpg  \n",
            "  inflating: test_data/bonegl/DSC_4589.jpg  \n",
            "  inflating: test_data/bonegl/DSC_4590.jpg  \n",
            "  inflating: test_data/bonegl/DSC_4591.jpg  \n",
            "  inflating: test_data/bonegl/DSC_4592.jpg  \n",
            "  inflating: test_data/bonegl/DSC_4593.jpg  \n",
            "  inflating: test_data/brhkyt/D72_0473.jpg  \n",
            "  inflating: test_data/brhkyt/D72_0474.jpg  \n",
            "  inflating: test_data/brhkyt/D72_0475.jpg  \n",
            "  inflating: test_data/brhkyt/D72_0477.jpg  \n",
            "  inflating: test_data/brhkyt/D72_0478.jpg  \n",
            "  inflating: test_data/brhkyt/D72_0479.jpg  \n",
            "   creating: test_data/cbrtsh/\n",
            "  inflating: test_data/cbrtsh/_D32_10310.jpg  \n",
            "  inflating: test_data/cbrtsh/_D32_10311.jpg  \n",
            "  inflating: test_data/cbrtsh/_D32_10312.jpg  \n",
            "  inflating: test_data/cbrtsh/_D32_10313.jpg  \n",
            "  inflating: test_data/cbrtsh/_D32_10314.jpg  \n",
            "  inflating: test_data/cbrtsh/_D32_10317.jpg  \n",
            "  inflating: test_data/cbrtsh/_D32_10318.jpg  \n",
            "   creating: test_data/cmnmyn/\n",
            "  inflating: test_data/cmnmyn/DSC_2443.jpg  \n",
            "  inflating: test_data/cmnmyn/DSC_4681.jpg  \n",
            "  inflating: test_data/cmnmyn/DSC_5137.jpg  \n",
            "  inflating: test_data/cmnmyn/DSC_7625.jpg  \n",
            "  inflating: test_data/cmnmyn/P1050277.jpg  \n",
            "  inflating: test_data/cmnmyn/_D32_12426.jpg  \n",
            "  inflating: test_data/cmnmyn/_D32_12427.jpg  \n",
            "  inflating: test_data/cmnmyn/_D32_12428.jpg  \n",
            "   creating: test_data/gretit/\n",
            "  inflating: test_data/gretit/11620454726_31a35c26da_o.jpg  \n",
            "  inflating: test_data/gretit/11776135285_ccf938fa2e_o.jpg  \n",
            "  inflating: test_data/gretit/11905645146_6a5d4ff9f9_o.jpg  \n",
            "  inflating: test_data/gretit/8537646712_0b282c4c6a_o.jpg  \n",
            "  inflating: test_data/gretit/D72_0693.jpg  \n",
            "  inflating: test_data/gretit/D72_0694.jpg  \n",
            "  inflating: test_data/gretit/D72_0695.jpg  \n",
            "   creating: test_data/hilpig/\n",
            "  inflating: test_data/hilpig/DSC_6359.jpg  \n",
            "  inflating: test_data/hilpig/DSC_6362.jpg  \n",
            "  inflating: test_data/hilpig/DSC_6364.jpg  \n",
            "  inflating: test_data/hilpig/DSC_6368.jpg  \n",
            "  inflating: test_data/hilpig/DSC_6403.jpg  \n",
            "  inflating: test_data/hilpig/DSC_6404.jpg  \n",
            "  inflating: test_data/hilpig/P1000319.jpg  \n",
            "  inflating: test_data/hilpig/P1000323.jpg  \n",
            "  inflating: test_data/hilpig/P1050044.jpg  \n",
            "  inflating: test_data/hilpig/P1050045.jpg  \n",
            "   creating: test_data/himbul/\n",
            "  inflating: test_data/himbul/11602064885_3826df4500_o.jpg  \n",
            "  inflating: test_data/himbul/11619942574_42f23a7b05_o.jpg  \n",
            "  inflating: test_data/himbul/11620097904_33fa8ee878_o.jpg  \n",
            "  inflating: test_data/himbul/5857371972_ed4f88b275_o.jpg  \n",
            "  inflating: test_data/himbul/6154954471_eefe6e00d1_o.jpg  \n",
            "  inflating: test_data/himbul/D72_0688.jpg  \n",
            "  inflating: test_data/himbul/D72_0691.jpg  \n",
            "  inflating: test_data/himbul/DSC08357.jpg  \n",
            "  inflating: test_data/himbul/DSC_3230.jpg  \n",
            "  inflating: test_data/himbul/DSC_7439.jpg  \n",
            "  inflating: test_data/himbul/DSC_7602.jpg  \n",
            "  inflating: test_data/himbul/P1060368.jpg  \n",
            "  inflating: test_data/himbul/P1060369.jpg  \n",
            "  inflating: test_data/himbul/_D32_10242.jpg  \n",
            "  inflating: test_data/himbul/_D32_10245.jpg  \n",
            "  inflating: test_data/himbul/_D32_10251.jpg  \n",
            "  inflating: test_data/himbul/_D32_10319.jpg  \n",
            "  inflating: test_data/himbul/_D32_10320.jpg  \n",
            "  inflating: test_data/himbul/_DSC9446.jpg  \n",
            "   creating: test_data/himgri/\n",
            "  inflating: test_data/himgri/IMG_5384.JPG  \n",
            "  inflating: test_data/himgri/IMG_5385.JPG  \n",
            "  inflating: test_data/himgri/IMG_5386.JPG  \n",
            "  inflating: test_data/himgri/IMG_5387.JPG  \n",
            "  inflating: test_data/himgri/IMG_5459.JPG  \n",
            "  inflating: test_data/himgri/IMG_5460.JPG  \n",
            "  inflating: test_data/himgri/IMG_5487.JPG  \n",
            "  inflating: test_data/himgri/IMG_5488.JPG  \n",
            "  inflating: test_data/himgri/IMG_5489.JPG  \n",
            "  inflating: test_data/himgri/IMG_5490.JPG  \n",
            "  inflating: test_data/himgri/IMG_5491.JPG  \n",
            "  inflating: test_data/himgri/IMG_5492.JPG  \n",
            "  inflating: test_data/himgri/P1020742.jpg  \n",
            "  inflating: test_data/himgri/P1020743.jpg  \n",
            "  inflating: test_data/himgri/P1020746.jpg  \n",
            "  inflating: test_data/himgri/P1020748.jpg  \n",
            "  inflating: test_data/himgri/P1030055.jpg  \n",
            "  inflating: test_data/himgri/P1060776.jpg  \n",
            "  inflating: test_data/himgri/P1060777.jpg  \n",
            "  inflating: test_data/himgri/P1060778.jpg  \n",
            "   creating: test_data/hsparo/\n",
            "  inflating: test_data/hsparo/100_5573.JPG  \n",
            "  inflating: test_data/hsparo/100_5585.JPG  \n",
            "  inflating: test_data/hsparo/100_5586.JPG  \n",
            "  inflating: test_data/hsparo/100_5742.JPG  \n",
            "  inflating: test_data/hsparo/12265273154_48e0fefd42_o.jpg  \n",
            "  inflating: test_data/hsparo/DSC_4521.jpg  \n",
            "  inflating: test_data/hsparo/DSC_7619.jpg  \n",
            "  inflating: test_data/hsparo/_DSC_11244.jpg  \n",
            "  inflating: test_data/hsparo/_DSC_11246.jpg  \n",
            "   creating: test_data/indvul/\n",
            "  inflating: test_data/indvul/DSC_1263.jpg  \n",
            "  inflating: test_data/indvul/DSC_1273.jpg  \n",
            "  inflating: test_data/indvul/DSC_1274.jpg  \n",
            "  inflating: test_data/indvul/DSC_1275.jpg  \n",
            "  inflating: test_data/indvul/DSC_1277.jpg  \n",
            "  inflating: test_data/indvul/_DSC8754.jpg  \n",
            "  inflating: test_data/indvul/_DSC9520.jpg  \n",
            "  inflating: test_data/indvul/_DSC9521.jpg  \n",
            "  inflating: test_data/indvul/_DSC9523.jpg  \n",
            "   creating: test_data/jglowl/\n",
            "  inflating: test_data/jglowl/_D32_10584.jpg  \n",
            "  inflating: test_data/jglowl/_D32_10587.jpg  \n",
            "  inflating: test_data/jglowl/_D32_10593.jpg  \n",
            "  inflating: test_data/jglowl/_D32_13515.jpg  \n",
            "  inflating: test_data/jglowl/_D32_13516.jpg  \n",
            "  inflating: test_data/jglowl/_D32_13517.jpg  \n",
            "   creating: test_data/lbicrw/\n",
            "  inflating: test_data/lbicrw/100_4917.JPG  \n",
            "  inflating: test_data/lbicrw/IMG_5538.JPG  \n",
            "  inflating: test_data/lbicrw/IMG_5541.JPG  \n",
            "  inflating: test_data/lbicrw/IMG_5543.JPG  \n",
            "  inflating: test_data/lbicrw/IMG_5544.JPG  \n",
            "  inflating: test_data/lbicrw/P1030030.jpg  \n",
            "   creating: test_data/mgprob/\n",
            "  inflating: test_data/mgprob/100_5811.JPG  \n",
            "  inflating: test_data/mgprob/100_5812.JPG  \n",
            "  inflating: test_data/mgprob/100_5813.JPG  \n",
            "  inflating: test_data/mgprob/DSC_3233.jpg  \n",
            "  inflating: test_data/mgprob/_DSC0085.jpg  \n",
            "  inflating: test_data/mgprob/_DSC0133.jpg  \n",
            "  inflating: test_data/mgprob/_DSC0135.jpg  \n",
            "   creating: test_data/rebimg/\n",
            "  inflating: test_data/rebimg/100_5756.JPG  \n",
            "  inflating: test_data/rebimg/100_5757.JPG  \n",
            "  inflating: test_data/rebimg/100_5758.JPG  \n",
            "  inflating: test_data/rebimg/100_5759.JPG  \n",
            "  inflating: test_data/rebimg/100_5760.JPG  \n",
            "  inflating: test_data/rebimg/13009302395_5d88a9d62b_o.jpg  \n",
            "  inflating: test_data/rebimg/13009315305_f1cbfb6767_o.jpg  \n",
            "  inflating: test_data/rebimg/13009451823_8eb502581f_o.jpg  \n",
            "  inflating: test_data/rebimg/DSC_7148.jpg  \n",
            "  inflating: test_data/rebimg/IMG_5251.JPG  \n",
            "  inflating: test_data/rebimg/IMG_5252.JPG  \n",
            "   creating: test_data/wcrsrt/\n",
            "  inflating: test_data/wcrsrt/100_4462.JPG  \n",
            "  inflating: test_data/wcrsrt/100_4463.JPG  \n",
            "  inflating: test_data/wcrsrt/100_4464.JPG  \n",
            "  inflating: test_data/wcrsrt/100_4466.JPG  \n",
            "  inflating: test_data/wcrsrt/100_4467.JPG  \n",
            "  inflating: test_data/wcrsrt/100_4468.JPG  \n",
            "  inflating: test_data/wcrsrt/100_5103.JPG  \n",
            "  inflating: test_data/wcrsrt/100_5105.JPG  \n",
            "  inflating: test_data/wcrsrt/11382677585_ef6570a041_o.jpg  \n",
            "  inflating: test_data/wcrsrt/11382746854_7ce73793b3_o.jpg  \n"
          ]
        }
      ],
      "source": [
        "!unzip 'test_data.zip'"
      ]
    },
    {
      "cell_type": "code",
      "source": [
        "!unzip '/content/drive/MyDrive/dataset/train_data.zip'"
      ],
      "metadata": {
        "id": "olBZLZYib7BF",
        "colab": {
          "base_uri": "https://localhost:8080/"
        },
        "outputId": "62fd0b40-93f1-4f80-87c0-1c4263d89b6d"
      },
      "execution_count": null,
      "outputs": [
        {
          "output_type": "stream",
          "name": "stdout",
          "text": [
            "Archive:  /content/drive/MyDrive/dataset/train_data.zip\n",
            "replace train_data/blasti/DSC_6382.jpg? [y]es, [n]o, [A]ll, [N]one, [r]ename: A\n",
            "  inflating: train_data/blasti/DSC_6382.jpg  \n",
            "  inflating: train_data/blasti/DSC_6383.jpg  \n",
            "  inflating: train_data/blasti/DSC_6384-2.jpg  \n",
            "  inflating: train_data/blasti/DSC_6384.jpg  \n",
            "  inflating: train_data/blasti/DSC_6385.jpg  \n",
            "  inflating: train_data/blasti/DSC_6386.jpg  \n",
            "  inflating: train_data/blasti/DSC_6387.jpg  \n",
            "  inflating: train_data/blasti/DSC_6388.jpg  \n",
            "  inflating: train_data/blasti/DSC_6389.jpg  \n",
            "  inflating: train_data/blasti/DSC_6390.jpg  \n",
            "  inflating: train_data/blasti/DSC_6391.jpg  \n",
            "  inflating: train_data/blasti/DSC_6392.jpg  \n",
            "  inflating: train_data/blasti/DSC_6393.jpg  \n",
            "  inflating: train_data/blasti/DSC_6394.jpg  \n",
            "  inflating: train_data/blasti/DSC_6395.jpg  \n",
            "   creating: train_data/bonegl/\n",
            "  inflating: train_data/bonegl/DSC_4570.jpg  \n",
            "  inflating: train_data/bonegl/DSC_4571.jpg  \n",
            "  inflating: train_data/bonegl/DSC_4583.jpg  \n",
            "  inflating: train_data/bonegl/DSC_4584.jpg  \n",
            "  inflating: train_data/bonegl/DSC_4585.jpg  \n",
            "  inflating: train_data/bonegl/DSC_4586.jpg  \n",
            "   creating: train_data/brhkyt/\n",
            "  inflating: train_data/brhkyt/D72_0400.jpg  \n",
            "  inflating: train_data/brhkyt/D72_0401.jpg  \n",
            "  inflating: train_data/brhkyt/D72_0470.jpg  \n",
            "  inflating: train_data/brhkyt/D72_0471.jpg  \n",
            "  inflating: train_data/brhkyt/D72_0472.jpg  \n",
            "   creating: train_data/cbrtsh/\n",
            "  inflating: train_data/cbrtsh/100_5097.JPG  \n",
            "  inflating: train_data/cbrtsh/_D32_10303.jpg  \n",
            "  inflating: train_data/cbrtsh/_D32_10305.jpg  \n",
            "  inflating: train_data/cbrtsh/_D32_10306.jpg  \n",
            "  inflating: train_data/cbrtsh/_D32_10307.jpg  \n",
            "  inflating: train_data/cbrtsh/_D32_10308.jpg  \n",
            "  inflating: train_data/cbrtsh/_D32_10309.jpg  \n",
            "   creating: train_data/cmnmyn/\n",
            "  inflating: train_data/cmnmyn/100_5763.JPG  \n",
            "  inflating: train_data/cmnmyn/5866682091_870ccc946c_o.jpg  \n",
            "  inflating: train_data/cmnmyn/6154956165_64266b8b53_o.jpg  \n",
            "  inflating: train_data/cmnmyn/DSCN5784.jpg  \n",
            "  inflating: train_data/cmnmyn/DSCN5787.jpg  \n",
            "  inflating: train_data/cmnmyn/DSCN5790.jpg  \n",
            "  inflating: train_data/cmnmyn/DSCN5791.jpg  \n",
            "   creating: train_data/gretit/\n",
            "  inflating: train_data/gretit/100_5042.JPG  \n",
            "  inflating: train_data/gretit/100_5043.JPG  \n",
            "  inflating: train_data/gretit/100_5044.JPG  \n",
            "  inflating: train_data/gretit/100_5045.JPG  \n",
            "  inflating: train_data/gretit/100_5046.JPG  \n",
            "  inflating: train_data/gretit/100_5047.JPG  \n",
            "   creating: train_data/hilpig/\n",
            "  inflating: train_data/hilpig/DSC_6272.jpg  \n",
            "  inflating: train_data/hilpig/DSC_6273.jpg  \n",
            "  inflating: train_data/hilpig/DSC_6274.jpg  \n",
            "  inflating: train_data/hilpig/DSC_6275.jpg  \n",
            "  inflating: train_data/hilpig/DSC_6350.jpg  \n",
            "  inflating: train_data/hilpig/DSC_6351.jpg  \n",
            "  inflating: train_data/hilpig/DSC_6352.jpg  \n",
            "  inflating: train_data/hilpig/DSC_6353.jpg  \n",
            "  inflating: train_data/hilpig/DSC_6354.jpg  \n",
            "  inflating: train_data/hilpig/DSC_6358.jpg  \n",
            "   creating: train_data/himbul/\n",
            "  inflating: train_data/himbul/100_5028.JPG  \n",
            "  inflating: train_data/himbul/100_5029.JPG  \n",
            "  inflating: train_data/himbul/100_5096.JPG  \n",
            "  inflating: train_data/himbul/100_5099.JPG  \n",
            "  inflating: train_data/himbul/100_5100.JPG  \n",
            "  inflating: train_data/himbul/100_5102.JPG  \n",
            "  inflating: train_data/himbul/100_5110.JPG  \n",
            "  inflating: train_data/himbul/100_5112.JPG  \n",
            "  inflating: train_data/himbul/100_5113.JPG  \n",
            "  inflating: train_data/himbul/100_5159.JPG  \n",
            "  inflating: train_data/himbul/100_5160.JPG  \n",
            "  inflating: train_data/himbul/100_5161.JPG  \n",
            "  inflating: train_data/himbul/100_5162.JPG  \n",
            "  inflating: train_data/himbul/10774570945_9bc537c255_o.jpg  \n",
            "  inflating: train_data/himbul/11383838134_96e891a316_o.jpg  \n",
            "  inflating: train_data/himbul/11383857084_cdd7514746_o.jpg  \n",
            "  inflating: train_data/himbul/11387473723_464965720a_o.jpg  \n",
            "  inflating: train_data/himbul/9007817678_24db19fc63_o.jpg  \n",
            "   creating: train_data/himgri/\n",
            "  inflating: train_data/himgri/12029790563_2fe54a68aa_o.jpg  \n",
            "  inflating: train_data/himgri/12029822653_1185544e7b_o.jpg  \n",
            "  inflating: train_data/himgri/12029933015_802428e277_o.jpg  \n",
            "  inflating: train_data/himgri/12029987304_031b7a2d53_o.jpg  \n",
            "  inflating: train_data/himgri/12030165813_f5341e8ed0_o.jpg  \n",
            "  inflating: train_data/himgri/12030221124_1baaf905d1_o.jpg  \n",
            "  inflating: train_data/himgri/12030269234_1c3f5a8e8c_o.jpg  \n",
            "  inflating: train_data/himgri/12152037683_13e1556c41_o.jpg  \n",
            "  inflating: train_data/himgri/12152178844_dc29e3126f_o.jpg  \n",
            "  inflating: train_data/himgri/12152510436_23b62fed3b_o.jpg  \n",
            "  inflating: train_data/himgri/12265055185_138e3c7c70_o.jpg  \n",
            "  inflating: train_data/himgri/12265498144_d2e80faa3b_o.jpg  \n",
            "  inflating: train_data/himgri/12265561764_4814951031_o.jpg  \n",
            "  inflating: train_data/himgri/12265582724_61cb64e73a_o.jpg  \n",
            "  inflating: train_data/himgri/12265738206_2b9b25cc8a_o.jpg  \n",
            "  inflating: train_data/himgri/12265747116_d4b4fa3741_o.jpg  \n",
            "  inflating: train_data/himgri/12266053036_fcab92d8e8_o.jpg  \n",
            "  inflating: train_data/himgri/12266077576_1d7143aaf7_o.jpg  \n",
            "  inflating: train_data/himgri/12266086526_82cd337667_o.jpg  \n",
            "  inflating: train_data/himgri/IMG_5463.JPG  \n",
            "   creating: train_data/hsparo/\n",
            "  inflating: train_data/hsparo/100_4757.JPG  \n",
            "  inflating: train_data/hsparo/100_4758.JPG  \n",
            "  inflating: train_data/hsparo/100_5039.JPG  \n",
            "  inflating: train_data/hsparo/100_5040.JPG  \n",
            "  inflating: train_data/hsparo/100_5041.JPG  \n",
            "  inflating: train_data/hsparo/100_5048.JPG  \n",
            "  inflating: train_data/hsparo/100_5049.JPG  \n",
            "  inflating: train_data/hsparo/100_5050.JPG  \n",
            "  inflating: train_data/hsparo/100_5572.JPG  \n",
            "   creating: train_data/indvul/\n",
            "  inflating: train_data/indvul/DSC_0502.jpg  \n",
            "  inflating: train_data/indvul/DSC_0571e.jpg  \n",
            "  inflating: train_data/indvul/DSC_0572.jpg  \n",
            "  inflating: train_data/indvul/DSC_0576e.jpg  \n",
            "  inflating: train_data/indvul/DSC_0582.jpg  \n",
            "  inflating: train_data/indvul/DSC_0583e.jpg  \n",
            "  inflating: train_data/indvul/DSC_0584.jpg  \n",
            "  inflating: train_data/indvul/DSC_0616c.jpg  \n",
            "  inflating: train_data/indvul/DSC_0617.jpg  \n",
            "   creating: train_data/jglowl/\n",
            "  inflating: train_data/jglowl/12152151476_7a1524aabb_o.jpg  \n",
            "  inflating: train_data/jglowl/DSC01335.jpg  \n",
            "  inflating: train_data/jglowl/DSC01336.jpg  \n",
            "  inflating: train_data/jglowl/_D32_10285.jpg  \n",
            "  inflating: train_data/jglowl/_D32_10578.jpg  \n",
            "  inflating: train_data/jglowl/_D32_10583.jpg  \n",
            "   creating: train_data/lbicrw/\n",
            "  inflating: train_data/lbicrw/100_4037.JPG  \n",
            "  inflating: train_data/lbicrw/100_4912.JPG  \n",
            "  inflating: train_data/lbicrw/100_4913.JPG  \n",
            "  inflating: train_data/lbicrw/100_4914.JPG  \n",
            "  inflating: train_data/lbicrw/100_4915.JPG  \n",
            "  inflating: train_data/lbicrw/100_4916.JPG  \n",
            "   creating: train_data/mgprob/\n",
            "  inflating: train_data/mgprob/100_5587.JPG  \n",
            "  inflating: train_data/mgprob/100_5588.JPG  \n",
            "  inflating: train_data/mgprob/100_5589.JPG  \n",
            "  inflating: train_data/mgprob/100_5590.JPG  \n",
            "  inflating: train_data/mgprob/100_5592.JPG  \n",
            "  inflating: train_data/mgprob/100_5762.JPG  \n",
            "   creating: train_data/rebimg/\n",
            "  inflating: train_data/rebimg/100_5744.JPG  \n",
            "  inflating: train_data/rebimg/100_5745.JPG  \n",
            "  inflating: train_data/rebimg/100_5746.JPG  \n",
            "  inflating: train_data/rebimg/100_5748.JPG  \n",
            "  inflating: train_data/rebimg/100_5749.JPG  \n",
            "  inflating: train_data/rebimg/100_5750.JPG  \n",
            "  inflating: train_data/rebimg/100_5751.JPG  \n",
            "  inflating: train_data/rebimg/100_5752.JPG  \n",
            "  inflating: train_data/rebimg/100_5754.JPG  \n",
            "  inflating: train_data/rebimg/100_5755.JPG  \n",
            "   creating: train_data/wcrsrt/\n",
            "  inflating: train_data/wcrsrt/100_4452.JPG  \n",
            "  inflating: train_data/wcrsrt/100_4453.JPG  \n",
            "  inflating: train_data/wcrsrt/100_4454.JPG  \n",
            "  inflating: train_data/wcrsrt/100_4455.JPG  \n",
            "  inflating: train_data/wcrsrt/100_4456.JPG  \n",
            "  inflating: train_data/wcrsrt/100_4457.JPG  \n",
            "  inflating: train_data/wcrsrt/100_4458.JPG  \n",
            "  inflating: train_data/wcrsrt/100_4459.JPG  \n",
            "  inflating: train_data/wcrsrt/100_4460.JPG  \n",
            "  inflating: train_data/wcrsrt/100_4461.JPG  \n"
          ]
        }
      ]
    },
    {
      "cell_type": "code",
      "source": [
        "from tensorflow.keras.preprocessing.image import ImageDataGenerator"
      ],
      "metadata": {
        "id": "aTKxzSzg3ELg"
      },
      "execution_count": null,
      "outputs": []
    },
    {
      "cell_type": "code",
      "source": [
        "train_gen = ImageDataGenerator(rescale=(1./255),horizontal_flip=True,shear_range=0.3)"
      ],
      "metadata": {
        "id": "WD46nkSMYZkj"
      },
      "execution_count": null,
      "outputs": []
    },
    {
      "cell_type": "code",
      "source": [
        "test_gen= ImageDataGenerator(rescale=(1./255))"
      ],
      "metadata": {
        "id": "rQOPE2lJZI2j"
      },
      "execution_count": null,
      "outputs": []
    },
    {
      "cell_type": "code",
      "source": [
        "train = train_gen.flow_from_directory('/content/train_data',target_size=(150,150),class_mode='categorical',batch_size=8)"
      ],
      "metadata": {
        "id": "XddCSMp9ZUqA",
        "colab": {
          "base_uri": "https://localhost:8080/"
        },
        "outputId": "8b32e166-9909-4e84-b6ec-7f828e1259bb"
      },
      "execution_count": null,
      "outputs": [
        {
          "output_type": "stream",
          "name": "stdout",
          "text": [
            "Found 150 images belonging to 16 classes.\n"
          ]
        }
      ]
    },
    {
      "cell_type": "code",
      "source": [
        "test=test_gen.flow_from_directory('/content/test_data',target_size=(150,150),class_mode='categorical',batch_size=8)"
      ],
      "metadata": {
        "id": "HpyA34LPa1rt",
        "colab": {
          "base_uri": "https://localhost:8080/"
        },
        "outputId": "55838a5f-70c5-4453-a1e2-cba3b68a6ecf"
      },
      "execution_count": null,
      "outputs": [
        {
          "output_type": "stream",
          "name": "stdout",
          "text": [
            "Found 157 images belonging to 16 classes.\n"
          ]
        }
      ]
    },
    {
      "cell_type": "code",
      "source": [
        "from tensorflow.keras.layers import Convolution2D,MaxPooling2D,Flatten,Dense\n",
        "from tensorflow.keras.models import Sequential"
      ],
      "metadata": {
        "id": "riJfaAxLbXSl"
      },
      "execution_count": null,
      "outputs": []
    },
    {
      "cell_type": "code",
      "source": [
        "model = Sequential()\n",
        "model = Sequential()\n",
        "model.add(Convolution2D(12,(3,3),activation='relu',input_shape=(150, 150, 3)))\n",
        "model.add(MaxPooling2D(pool_size=(2,2)))\n",
        "model.add(Convolution2D(24,(3,3),activation='relu'))\n",
        "model.add(MaxPooling2D(pool_size=(2,2)))\n",
        "model.add(Convolution2D(36,(3,3),activation='relu'))\n",
        "model.add(MaxPooling2D(pool_size=(2,2)))\n",
        "model.add(Flatten())\n",
        "model.add(Dense(54,activation='relu'))\n",
        "model.add(Dense(30,activation='relu'))\n",
        "model.add(Dense(16,activation='softmax'))"
      ],
      "metadata": {
        "id": "6XzSDxivdmQc"
      },
      "execution_count": null,
      "outputs": []
    },
    {
      "cell_type": "code",
      "source": [
        "\n",
        "model.compile(optimizer='adam',loss='categorical_crossentropy',metrics=['accuracy'])"
      ],
      "metadata": {
        "id": "XCJIwu7Ken4X"
      },
      "execution_count": null,
      "outputs": []
    },
    {
      "cell_type": "code",
      "source": [
        "model.fit(train,batch_size=8,validation_data=test,epochs=40)"
      ],
      "metadata": {
        "id": "RhUMZbdletAN",
        "colab": {
          "base_uri": "https://localhost:8080/"
        },
        "outputId": "022fbfac-e971-4f53-ae83-cf572bd9ee94"
      },
      "execution_count": null,
      "outputs": [
        {
          "output_type": "stream",
          "name": "stdout",
          "text": [
            "Epoch 1/40\n",
            "19/19 [==============================] - 103s 5s/step - loss: 2.7551 - accuracy: 0.1533 - val_loss: 2.7344 - val_accuracy: 0.1401\n",
            "Epoch 2/40\n",
            "19/19 [==============================] - 89s 5s/step - loss: 2.6678 - accuracy: 0.1067 - val_loss: 2.6609 - val_accuracy: 0.1592\n",
            "Epoch 3/40\n",
            "19/19 [==============================] - 120s 7s/step - loss: 2.5024 - accuracy: 0.1867 - val_loss: 2.5435 - val_accuracy: 0.1529\n",
            "Epoch 4/40\n",
            "19/19 [==============================] - 119s 7s/step - loss: 2.3977 - accuracy: 0.2067 - val_loss: 2.4920 - val_accuracy: 0.1847\n",
            "Epoch 5/40\n",
            "19/19 [==============================] - 88s 5s/step - loss: 2.2586 - accuracy: 0.2933 - val_loss: 2.4971 - val_accuracy: 0.1975\n",
            "Epoch 6/40\n",
            "19/19 [==============================] - 88s 5s/step - loss: 2.1302 - accuracy: 0.3267 - val_loss: 2.4278 - val_accuracy: 0.2930\n",
            "Epoch 7/40\n",
            "19/19 [==============================] - 120s 7s/step - loss: 1.9964 - accuracy: 0.3533 - val_loss: 2.3764 - val_accuracy: 0.2803\n",
            "Epoch 8/40\n",
            "19/19 [==============================] - 88s 5s/step - loss: 1.8167 - accuracy: 0.3733 - val_loss: 2.5363 - val_accuracy: 0.2930\n",
            "Epoch 9/40\n",
            "19/19 [==============================] - 87s 5s/step - loss: 1.7447 - accuracy: 0.4267 - val_loss: 2.5423 - val_accuracy: 0.2611\n",
            "Epoch 10/40\n",
            "19/19 [==============================] - 89s 5s/step - loss: 1.6308 - accuracy: 0.4600 - val_loss: 2.5414 - val_accuracy: 0.2803\n",
            "Epoch 11/40\n",
            "19/19 [==============================] - 87s 5s/step - loss: 1.4620 - accuracy: 0.5000 - val_loss: 2.7057 - val_accuracy: 0.1911\n",
            "Epoch 12/40\n",
            "19/19 [==============================] - 88s 5s/step - loss: 1.4432 - accuracy: 0.4800 - val_loss: 2.5889 - val_accuracy: 0.2548\n",
            "Epoch 13/40\n",
            "19/19 [==============================] - 89s 5s/step - loss: 1.2513 - accuracy: 0.5800 - val_loss: 2.7031 - val_accuracy: 0.3121\n",
            "Epoch 14/40\n",
            "19/19 [==============================] - 91s 5s/step - loss: 1.1122 - accuracy: 0.6733 - val_loss: 2.9323 - val_accuracy: 0.2548\n",
            "Epoch 15/40\n",
            "19/19 [==============================] - 120s 7s/step - loss: 0.8626 - accuracy: 0.7133 - val_loss: 3.0357 - val_accuracy: 0.3312\n",
            "Epoch 16/40\n",
            "19/19 [==============================] - 90s 5s/step - loss: 0.9249 - accuracy: 0.7133 - val_loss: 3.0785 - val_accuracy: 0.2994\n",
            "Epoch 17/40\n",
            "19/19 [==============================] - 89s 5s/step - loss: 0.7073 - accuracy: 0.8000 - val_loss: 3.1900 - val_accuracy: 0.2357\n",
            "Epoch 18/40\n",
            "19/19 [==============================] - 120s 7s/step - loss: 0.6359 - accuracy: 0.8133 - val_loss: 3.5570 - val_accuracy: 0.2803\n",
            "Epoch 19/40\n",
            "19/19 [==============================] - 89s 5s/step - loss: 0.4809 - accuracy: 0.8600 - val_loss: 3.9660 - val_accuracy: 0.2420\n",
            "Epoch 20/40\n",
            "19/19 [==============================] - 89s 5s/step - loss: 0.4031 - accuracy: 0.8667 - val_loss: 3.9748 - val_accuracy: 0.2930\n",
            "Epoch 21/40\n",
            "19/19 [==============================] - 91s 5s/step - loss: 0.2693 - accuracy: 0.9200 - val_loss: 4.5156 - val_accuracy: 0.2166\n",
            "Epoch 22/40\n",
            "19/19 [==============================] - 91s 5s/step - loss: 0.2126 - accuracy: 0.9333 - val_loss: 5.2202 - val_accuracy: 0.3057\n",
            "Epoch 23/40\n",
            "19/19 [==============================] - 88s 5s/step - loss: 0.4712 - accuracy: 0.8467 - val_loss: 4.2280 - val_accuracy: 0.3057\n",
            "Epoch 24/40\n",
            "19/19 [==============================] - 90s 5s/step - loss: 0.5775 - accuracy: 0.8467 - val_loss: 4.1314 - val_accuracy: 0.2611\n",
            "Epoch 25/40\n",
            "19/19 [==============================] - 89s 5s/step - loss: 0.3648 - accuracy: 0.8600 - val_loss: 4.2737 - val_accuracy: 0.2866\n",
            "Epoch 26/40\n",
            "19/19 [==============================] - 90s 5s/step - loss: 0.2008 - accuracy: 0.9467 - val_loss: 4.5031 - val_accuracy: 0.2994\n",
            "Epoch 27/40\n",
            "19/19 [==============================] - 87s 5s/step - loss: 0.1476 - accuracy: 0.9600 - val_loss: 4.8849 - val_accuracy: 0.2866\n",
            "Epoch 28/40\n",
            "19/19 [==============================] - 120s 7s/step - loss: 0.0806 - accuracy: 0.9867 - val_loss: 5.5932 - val_accuracy: 0.2484\n",
            "Epoch 29/40\n",
            "19/19 [==============================] - 120s 7s/step - loss: 0.0435 - accuracy: 1.0000 - val_loss: 6.0519 - val_accuracy: 0.2930\n",
            "Epoch 30/40\n",
            "19/19 [==============================] - 120s 7s/step - loss: 0.0898 - accuracy: 0.9867 - val_loss: 6.4217 - val_accuracy: 0.2803\n",
            "Epoch 31/40\n",
            "19/19 [==============================] - 121s 7s/step - loss: 0.2586 - accuracy: 0.9333 - val_loss: 5.2391 - val_accuracy: 0.2357\n",
            "Epoch 32/40\n",
            "19/19 [==============================] - 120s 7s/step - loss: 0.1629 - accuracy: 0.9533 - val_loss: 5.3234 - val_accuracy: 0.2675\n",
            "Epoch 33/40\n",
            "19/19 [==============================] - 87s 5s/step - loss: 0.0798 - accuracy: 0.9933 - val_loss: 5.6181 - val_accuracy: 0.2484\n",
            "Epoch 34/40\n",
            "19/19 [==============================] - 88s 5s/step - loss: 0.0615 - accuracy: 0.9867 - val_loss: 5.9485 - val_accuracy: 0.2994\n",
            "Epoch 35/40\n",
            "19/19 [==============================] - 86s 5s/step - loss: 0.1520 - accuracy: 0.9667 - val_loss: 5.8229 - val_accuracy: 0.3057\n",
            "Epoch 36/40\n",
            "19/19 [==============================] - 87s 5s/step - loss: 0.1887 - accuracy: 0.9600 - val_loss: 6.2113 - val_accuracy: 0.2675\n",
            "Epoch 37/40\n",
            "19/19 [==============================] - 90s 5s/step - loss: 0.3306 - accuracy: 0.8800 - val_loss: 5.7005 - val_accuracy: 0.2357\n",
            "Epoch 38/40\n",
            "19/19 [==============================] - 121s 7s/step - loss: 0.3122 - accuracy: 0.9200 - val_loss: 4.7809 - val_accuracy: 0.2484\n",
            "Epoch 39/40\n",
            "19/19 [==============================] - 89s 5s/step - loss: 0.1078 - accuracy: 0.9667 - val_loss: 4.8975 - val_accuracy: 0.3312\n",
            "Epoch 40/40\n",
            "19/19 [==============================] - 88s 5s/step - loss: 0.0863 - accuracy: 0.9867 - val_loss: 5.9846 - val_accuracy: 0.2548\n"
          ]
        },
        {
          "output_type": "execute_result",
          "data": {
            "text/plain": [
              "<keras.callbacks.History at 0x7febf80e58a0>"
            ]
          },
          "metadata": {},
          "execution_count": 34
        }
      ]
    },
    {
      "cell_type": "code",
      "source": [
        "#Testing\n",
        "\n",
        "import numpy as np\n",
        "from tensorflow.keras.preprocessing import image\n"
      ],
      "metadata": {
        "id": "SlQ1FXBwC2Lk"
      },
      "execution_count": null,
      "outputs": []
    },
    {
      "cell_type": "code",
      "source": [
        "img1= image.load_img('/content/bonegl.jpeg',target_size=(150,150))\n",
        "img1"
      ],
      "metadata": {
        "colab": {
          "base_uri": "https://localhost:8080/",
          "height": 167
        },
        "id": "73B5X0rMDU7a",
        "outputId": "00582588-a4ad-464e-9054-4200d503aae3"
      },
      "execution_count": null,
      "outputs": [
        {
          "output_type": "execute_result",
          "data": {
            "text/plain": [
              "<PIL.Image.Image image mode=RGB size=150x150 at 0x7FEB56B0E9B0>"
            ],
            "image/png": "[encoded data removed]"
          },
          "metadata": {},
          "execution_count": 64
        }
      ]
    },
    {
      "cell_type": "code",
      "source": [
        "img1=image.img_to_array(img1)\n",
        "img1=np.expand_dims(img1,axis=0)\n"
      ],
      "metadata": {
        "id": "GyE4unaDHlWI"
      },
      "execution_count": null,
      "outputs": []
    },
    {
      "cell_type": "code",
      "source": [
        "prediction = np.argmax(model.predict(img1))\n",
        "print(prediction)\n",
        "species =['blasti','bonegl','brhkyt','cbrtsh','cmnmyn','gretit','hilpig','himbul','himgri','hsparo','indvul','jglowl','lbicrw','mgprob','rebimg','wcrsrt']\n",
        "\n",
        "print(\"The species is \",species[prediction])"
      ],
      "metadata": {
        "colab": {
          "base_uri": "https://localhost:8080/"
        },
        "id": "5Kqt5BejD0hB",
        "outputId": "fb36f07f-b9d0-49f4-9baf-d986b4600b16"
      },
      "execution_count": null,
      "outputs": [
        {
          "output_type": "stream",
          "name": "stdout",
          "text": [
            "1/1 [==============================] - 0s 19ms/step\n",
            "1\n",
            "The species is  bonegl\n"
          ]
        }
      ]
    },
    {
      "cell_type": "code",
      "source": [
        "img2= image.load_img('/content/himgri.jpg',target_size=(150,150))\n",
        "img2"
      ],
      "metadata": {
        "colab": {
          "base_uri": "https://localhost:8080/",
          "height": 167
        },
        "id": "HNeUZ6-DEtqy",
        "outputId": "d04980f7-0f88-43aa-beeb-579f7ca221c6"
      },
      "execution_count": null,
      "outputs": [
        {
          "output_type": "execute_result",
          "data": {
            "text/plain": [
              "<PIL.Image.Image image mode=RGB size=150x150 at 0x7FEB56B0E560>"
            ],
            "image/png": "[encoded data removed]"
          },
          "metadata": {},
          "execution_count": 66
        }
      ]
    },
    {
      "cell_type": "code",
      "source": [
        "img2=image.img_to_array(img2)\n",
        "img2=np.expand_dims(img2,axis=0)"
      ],
      "metadata": {
        "id": "BmYyk8h8Hr5w"
      },
      "execution_count": null,
      "outputs": []
    },
    {
      "cell_type": "code",
      "source": [
        "prediction = np.argmax(model.predict(img2))\n",
        "print(prediction)\n",
        "species =['blasti','bonegl','brhkyt','cbrtsh','cmnmyn','gretit','hilpig','himbul','himgri','hsparo','indvul','jglowl','lbicrw','mgprob','rebimg','wcrsrt']\n",
        "\n",
        "print(\"The species is \",species[prediction])"
      ],
      "metadata": {
        "colab": {
          "base_uri": "https://localhost:8080/"
        },
        "id": "xa2kXZr4GE8J",
        "outputId": "85928637-9bd1-4bc4-cfc2-cab93ab9a475"
      },
      "execution_count": null,
      "outputs": [
        {
          "output_type": "stream",
          "name": "stdout",
          "text": [
            "1/1 [==============================] - 0s 19ms/step\n",
            "11\n",
            "The species is  jglowl\n"
          ]
        }
      ]
    }
  ]
}